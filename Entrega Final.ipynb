{
 "cells": [
  {
   "cell_type": "markdown",
   "metadata": {},
   "source": [
    "# Entrega Final"
   ]
  },
  {
   "cell_type": "markdown",
   "metadata": {},
   "source": [
    "Los objetivos de este fichero son:\n",
    "\n",
    "- Crear un modelo y realizar las predicciones sobre Estimar dataset, a partir los aprendizajes de anteriores notebooks"
   ]
  },
  {
   "cell_type": "markdown",
   "metadata": {},
   "source": [
    "El modelo que se crea a continuación se explica en detalle en el pdf adjunto.\n",
    "\n"
   ]
  },
  {
   "cell_type": "markdown",
   "metadata": {},
   "source": [
    "### Imports"
   ]
  },
  {
   "cell_type": "code",
   "execution_count": 1,
   "metadata": {},
   "outputs": [],
   "source": [
    "import pandas as pd\n",
    "\n",
    "import numpy as np\n",
    "\n",
    "import xgboost as xgb\n",
    "\n",
    "from sklearn.metrics import recall_score,accuracy_score,confusion_matrix, f1_score, precision_score\n",
    "#from sklearn.model_selection import cross_val_score, StratifiedKFold\n",
    "\n",
    "from sklearn.model_selection import train_test_split\n",
    "\n",
    "from imblearn.combine import SMOTETomek\n",
    "\n",
    "from sklearn.multiclass import OneVsRestClassifier\n",
    "#from sklearn.multiclass import OneVsOneClassifier\n",
    "#from sklearn import svm\n",
    "\n",
    "import matplotlib.pyplot as plt\n",
    "\n",
    "from scipy.spatial import cKDTree\n",
    "\n",
    "from scipy.special import softmax\n",
    "\n",
    "import sys; sys.path.insert(0, '..')\n",
    "import lib"
   ]
  },
  {
   "cell_type": "markdown",
   "metadata": {},
   "source": [
    "### Load Data"
   ]
  },
  {
   "cell_type": "code",
   "execution_count": 2,
   "metadata": {},
   "outputs": [],
   "source": [
    "X_modelar, y_modelar = lib.readHDF('../../Data/raw/hdf5/data.hdf5')\n",
    "X_estimar = lib.readHDF('../../Data/raw/hdf5/data.hdf5',estimar = True)"
   ]
  },
  {
   "cell_type": "code",
   "execution_count": 3,
   "metadata": {},
   "outputs": [],
   "source": [
    "X_full = pd.concat([X_modelar, X_estimar], sort=False)\n",
    "\n",
    "est_ID = X_estimar['ID']"
   ]
  },
  {
   "cell_type": "markdown",
   "metadata": {},
   "source": [
    "### Añadir dimensiones contexto"
   ]
  },
  {
   "cell_type": "markdown",
   "metadata": {},
   "source": [
    "Primero va a añadir al dataset una dimensión por cada clase (menos RESIDENTIAL), en la que los valores mostrarán la cantidad de fincas vecinas a dicha finca según la clase.\n",
    "\n",
    "Si dicha finca vecina esta en el set Modelar, conocemos la verdadera Clase. Si la finca se encuentra en el set Estimar, entonces se sumará la probabilidad de dicha clase"
   ]
  },
  {
   "cell_type": "markdown",
   "metadata": {},
   "source": [
    "A continuación se crea un cKDTree, una estructura que organiza las fincas según las cordenadas X, Y y nos permite hacer consultas más adelante para obtener los vecinos de cada finca"
   ]
  },
  {
   "cell_type": "code",
   "execution_count": 4,
   "metadata": {},
   "outputs": [],
   "source": [
    "X_spatial = X_full[['X','Y']]\n",
    "\n",
    "spatialTree = cKDTree(np.c_[X_spatial.X.ravel(),X_spatial.Y.ravel()])"
   ]
  },
  {
   "cell_type": "markdown",
   "metadata": {},
   "source": [
    "- Se eliminan las variables ID, X , Y de los data sets\n",
    "- Variables categóricas a numéricas\n",
    "- Se eliminan déciles que se consideran que no aportan información adicional"
   ]
  },
  {
   "cell_type": "code",
   "execution_count": 5,
   "metadata": {},
   "outputs": [],
   "source": [
    "X_full.drop(['ID','X','Y'],inplace=True,axis=1)\n",
    "X_full = lib.cadastralQualityToNumeric(X_full)\n",
    "X_full = lib.buildingFloorToNumeric(X_full)\n",
    "X_full = lib.deleteRedundantChannels(X_full)\n",
    "\n",
    "X_estimar.drop(['ID','X','Y'],inplace=True,axis=1)\n",
    "X_estimar = lib.cadastralQualityToNumeric(X_estimar)\n",
    "X_estimar = lib.buildingFloorToNumeric(X_estimar)\n",
    "X_estimar = lib.deleteRedundantChannels(X_estimar)\n",
    "\n",
    "X_modelar.drop(['ID','X','Y'],inplace=True,axis=1)\n",
    "X_modelar = lib.cadastralQualityToNumeric(X_modelar)\n",
    "X_modelar = lib.buildingFloorToNumeric(X_modelar)\n",
    "X_modelar = lib.deleteRedundantChannels(X_modelar)"
   ]
  },
  {
   "cell_type": "markdown",
   "metadata": {},
   "source": [
    "Este clasificador se va a utilizar para predecir las probabilidades de que una finca pertenecezca a cada clase. \n",
    "\n"
   ]
  },
  {
   "cell_type": "code",
   "execution_count": 6,
   "metadata": {},
   "outputs": [],
   "source": [
    "model = xgb.XGBClassifier(random_state=420,tree_method='gpu_hist',objective=\"binary:logistic\",eval_metric=\"logloss\", \n",
    "                      #eval_set=eval_set, \n",
    "                      learning_rate=0.01,  \n",
    "                      colsample_bytree = 0.4,\n",
    "                      subsample = 0.8, \n",
    "                      n_estimators=1000, \n",
    "                      max_depth=8,\n",
    "                      gamma=0.005,\n",
    "                      reg_alpha=0.05,\n",
    "                      reg_lambda=1.0,\n",
    "                     # early_stopping_rounds=20\n",
    "                    )\n",
    "\n",
    "clf0 = OneVsRestClassifier(model,n_jobs=12).fit(X_modelar,y_modelar)"
   ]
  },
  {
   "cell_type": "code",
   "execution_count": 7,
   "metadata": {},
   "outputs": [],
   "source": [
    "pred_estimar = clf0.predict_proba(X_estimar)"
   ]
  },
  {
   "cell_type": "code",
   "execution_count": 8,
   "metadata": {},
   "outputs": [
    {
     "data": {
      "text/plain": [
       "array(['AGRICULTURE', 'INDUSTRIAL', 'OFFICE', 'OTHER', 'PUBLIC',\n",
       "       'RESIDENTIAL', 'RETAIL'], dtype='<U11')"
      ]
     },
     "execution_count": 8,
     "metadata": {},
     "output_type": "execute_result"
    }
   ],
   "source": [
    "clf0.classes_"
   ]
  },
  {
   "cell_type": "markdown",
   "metadata": {},
   "source": [
    "Iteramos por cada finca en Modelar y Estimar.\n",
    "\n",
    "Para cada una obtenemos las 3 (K - 1) fincas vecinas y computamos las variables contexto"
   ]
  },
  {
   "cell_type": "code",
   "execution_count": 9,
   "metadata": {},
   "outputs": [
    {
     "name": "stdout",
     "output_type": "stream",
     "text": [
      "(108848, 7)\n",
      "(108848, 24)\n"
     ]
    },
    {
     "data": {
      "text/html": [
       "<div>\n",
       "<style scoped>\n",
       "    .dataframe tbody tr th:only-of-type {\n",
       "        vertical-align: middle;\n",
       "    }\n",
       "\n",
       "    .dataframe tbody tr th {\n",
       "        vertical-align: top;\n",
       "    }\n",
       "\n",
       "    .dataframe thead th {\n",
       "        text-align: right;\n",
       "    }\n",
       "</style>\n",
       "<table border=\"1\" class=\"dataframe\">\n",
       "  <thead>\n",
       "    <tr style=\"text-align: right;\">\n",
       "      <th></th>\n",
       "      <th>contexto_AGRICULTURE</th>\n",
       "      <th>contexto_INDUSTRIAL</th>\n",
       "      <th>contexto_OFFICE</th>\n",
       "      <th>contexto_OTHER</th>\n",
       "      <th>contexto_PUBLIC</th>\n",
       "      <th>contexto_RESIDENTIAL</th>\n",
       "      <th>contexto_RETAIL</th>\n",
       "    </tr>\n",
       "  </thead>\n",
       "  <tbody>\n",
       "    <tr>\n",
       "      <th>0</th>\n",
       "      <td>0.000000</td>\n",
       "      <td>0.000000</td>\n",
       "      <td>0.000000</td>\n",
       "      <td>0.000000</td>\n",
       "      <td>0.000000</td>\n",
       "      <td>3.000000</td>\n",
       "      <td>0.000000</td>\n",
       "    </tr>\n",
       "    <tr>\n",
       "      <th>1</th>\n",
       "      <td>0.000000</td>\n",
       "      <td>0.000000</td>\n",
       "      <td>0.000000</td>\n",
       "      <td>0.000000</td>\n",
       "      <td>0.000000</td>\n",
       "      <td>3.000000</td>\n",
       "      <td>0.000000</td>\n",
       "    </tr>\n",
       "    <tr>\n",
       "      <th>2</th>\n",
       "      <td>0.000000</td>\n",
       "      <td>0.000000</td>\n",
       "      <td>0.000000</td>\n",
       "      <td>0.000000</td>\n",
       "      <td>0.000000</td>\n",
       "      <td>3.000000</td>\n",
       "      <td>0.000000</td>\n",
       "    </tr>\n",
       "    <tr>\n",
       "      <th>3</th>\n",
       "      <td>0.000000</td>\n",
       "      <td>0.000000</td>\n",
       "      <td>0.000000</td>\n",
       "      <td>0.000000</td>\n",
       "      <td>0.000000</td>\n",
       "      <td>3.000000</td>\n",
       "      <td>0.000000</td>\n",
       "    </tr>\n",
       "    <tr>\n",
       "      <th>4</th>\n",
       "      <td>0.000000</td>\n",
       "      <td>0.000000</td>\n",
       "      <td>0.000000</td>\n",
       "      <td>0.000000</td>\n",
       "      <td>0.000000</td>\n",
       "      <td>3.000000</td>\n",
       "      <td>0.000000</td>\n",
       "    </tr>\n",
       "    <tr>\n",
       "      <th>5</th>\n",
       "      <td>0.000000</td>\n",
       "      <td>0.000000</td>\n",
       "      <td>0.000000</td>\n",
       "      <td>0.000000</td>\n",
       "      <td>0.000000</td>\n",
       "      <td>3.000000</td>\n",
       "      <td>0.000000</td>\n",
       "    </tr>\n",
       "    <tr>\n",
       "      <th>6</th>\n",
       "      <td>0.000000</td>\n",
       "      <td>0.000000</td>\n",
       "      <td>0.000000</td>\n",
       "      <td>0.000000</td>\n",
       "      <td>0.000000</td>\n",
       "      <td>3.000000</td>\n",
       "      <td>0.000000</td>\n",
       "    </tr>\n",
       "    <tr>\n",
       "      <th>7</th>\n",
       "      <td>0.000000</td>\n",
       "      <td>0.000000</td>\n",
       "      <td>0.000000</td>\n",
       "      <td>0.000000</td>\n",
       "      <td>0.000000</td>\n",
       "      <td>3.000000</td>\n",
       "      <td>0.000000</td>\n",
       "    </tr>\n",
       "    <tr>\n",
       "      <th>8</th>\n",
       "      <td>0.000000</td>\n",
       "      <td>0.000000</td>\n",
       "      <td>0.000000</td>\n",
       "      <td>0.000000</td>\n",
       "      <td>0.000000</td>\n",
       "      <td>3.000000</td>\n",
       "      <td>0.000000</td>\n",
       "    </tr>\n",
       "    <tr>\n",
       "      <th>9</th>\n",
       "      <td>0.002115</td>\n",
       "      <td>0.948188</td>\n",
       "      <td>0.005201</td>\n",
       "      <td>0.000717</td>\n",
       "      <td>0.003418</td>\n",
       "      <td>2.024537</td>\n",
       "      <td>0.015824</td>\n",
       "    </tr>\n",
       "    <tr>\n",
       "      <th>10</th>\n",
       "      <td>0.000045</td>\n",
       "      <td>0.013096</td>\n",
       "      <td>0.006303</td>\n",
       "      <td>0.000691</td>\n",
       "      <td>0.003357</td>\n",
       "      <td>2.968831</td>\n",
       "      <td>0.007677</td>\n",
       "    </tr>\n",
       "    <tr>\n",
       "      <th>11</th>\n",
       "      <td>0.000000</td>\n",
       "      <td>0.000000</td>\n",
       "      <td>0.000000</td>\n",
       "      <td>0.000000</td>\n",
       "      <td>0.000000</td>\n",
       "      <td>3.000000</td>\n",
       "      <td>0.000000</td>\n",
       "    </tr>\n",
       "    <tr>\n",
       "      <th>12</th>\n",
       "      <td>0.000000</td>\n",
       "      <td>0.000000</td>\n",
       "      <td>0.000000</td>\n",
       "      <td>0.000000</td>\n",
       "      <td>0.000000</td>\n",
       "      <td>3.000000</td>\n",
       "      <td>0.000000</td>\n",
       "    </tr>\n",
       "    <tr>\n",
       "      <th>13</th>\n",
       "      <td>0.000071</td>\n",
       "      <td>0.005112</td>\n",
       "      <td>0.003180</td>\n",
       "      <td>0.000919</td>\n",
       "      <td>0.003854</td>\n",
       "      <td>2.975092</td>\n",
       "      <td>0.011773</td>\n",
       "    </tr>\n",
       "    <tr>\n",
       "      <th>14</th>\n",
       "      <td>0.000000</td>\n",
       "      <td>0.000000</td>\n",
       "      <td>0.000000</td>\n",
       "      <td>0.000000</td>\n",
       "      <td>0.000000</td>\n",
       "      <td>3.000000</td>\n",
       "      <td>0.000000</td>\n",
       "    </tr>\n",
       "    <tr>\n",
       "      <th>15</th>\n",
       "      <td>0.000000</td>\n",
       "      <td>0.000000</td>\n",
       "      <td>0.000000</td>\n",
       "      <td>0.000000</td>\n",
       "      <td>0.000000</td>\n",
       "      <td>3.000000</td>\n",
       "      <td>0.000000</td>\n",
       "    </tr>\n",
       "    <tr>\n",
       "      <th>16</th>\n",
       "      <td>0.000059</td>\n",
       "      <td>0.004786</td>\n",
       "      <td>0.005796</td>\n",
       "      <td>0.000906</td>\n",
       "      <td>0.005004</td>\n",
       "      <td>2.972531</td>\n",
       "      <td>0.010919</td>\n",
       "    </tr>\n",
       "    <tr>\n",
       "      <th>17</th>\n",
       "      <td>0.000000</td>\n",
       "      <td>0.000000</td>\n",
       "      <td>0.000000</td>\n",
       "      <td>0.000000</td>\n",
       "      <td>0.000000</td>\n",
       "      <td>3.000000</td>\n",
       "      <td>0.000000</td>\n",
       "    </tr>\n",
       "    <tr>\n",
       "      <th>18</th>\n",
       "      <td>0.000000</td>\n",
       "      <td>0.000000</td>\n",
       "      <td>0.000000</td>\n",
       "      <td>0.000000</td>\n",
       "      <td>0.000000</td>\n",
       "      <td>3.000000</td>\n",
       "      <td>0.000000</td>\n",
       "    </tr>\n",
       "    <tr>\n",
       "      <th>19</th>\n",
       "      <td>0.000000</td>\n",
       "      <td>0.000000</td>\n",
       "      <td>0.000000</td>\n",
       "      <td>0.000000</td>\n",
       "      <td>0.000000</td>\n",
       "      <td>3.000000</td>\n",
       "      <td>0.000000</td>\n",
       "    </tr>\n",
       "  </tbody>\n",
       "</table>\n",
       "</div>"
      ],
      "text/plain": [
       "    contexto_AGRICULTURE  contexto_INDUSTRIAL  contexto_OFFICE  \\\n",
       "0               0.000000             0.000000         0.000000   \n",
       "1               0.000000             0.000000         0.000000   \n",
       "2               0.000000             0.000000         0.000000   \n",
       "3               0.000000             0.000000         0.000000   \n",
       "4               0.000000             0.000000         0.000000   \n",
       "5               0.000000             0.000000         0.000000   \n",
       "6               0.000000             0.000000         0.000000   \n",
       "7               0.000000             0.000000         0.000000   \n",
       "8               0.000000             0.000000         0.000000   \n",
       "9               0.002115             0.948188         0.005201   \n",
       "10              0.000045             0.013096         0.006303   \n",
       "11              0.000000             0.000000         0.000000   \n",
       "12              0.000000             0.000000         0.000000   \n",
       "13              0.000071             0.005112         0.003180   \n",
       "14              0.000000             0.000000         0.000000   \n",
       "15              0.000000             0.000000         0.000000   \n",
       "16              0.000059             0.004786         0.005796   \n",
       "17              0.000000             0.000000         0.000000   \n",
       "18              0.000000             0.000000         0.000000   \n",
       "19              0.000000             0.000000         0.000000   \n",
       "\n",
       "    contexto_OTHER  contexto_PUBLIC  contexto_RESIDENTIAL  contexto_RETAIL  \n",
       "0         0.000000         0.000000              3.000000         0.000000  \n",
       "1         0.000000         0.000000              3.000000         0.000000  \n",
       "2         0.000000         0.000000              3.000000         0.000000  \n",
       "3         0.000000         0.000000              3.000000         0.000000  \n",
       "4         0.000000         0.000000              3.000000         0.000000  \n",
       "5         0.000000         0.000000              3.000000         0.000000  \n",
       "6         0.000000         0.000000              3.000000         0.000000  \n",
       "7         0.000000         0.000000              3.000000         0.000000  \n",
       "8         0.000000         0.000000              3.000000         0.000000  \n",
       "9         0.000717         0.003418              2.024537         0.015824  \n",
       "10        0.000691         0.003357              2.968831         0.007677  \n",
       "11        0.000000         0.000000              3.000000         0.000000  \n",
       "12        0.000000         0.000000              3.000000         0.000000  \n",
       "13        0.000919         0.003854              2.975092         0.011773  \n",
       "14        0.000000         0.000000              3.000000         0.000000  \n",
       "15        0.000000         0.000000              3.000000         0.000000  \n",
       "16        0.000906         0.005004              2.972531         0.010919  \n",
       "17        0.000000         0.000000              3.000000         0.000000  \n",
       "18        0.000000         0.000000              3.000000         0.000000  \n",
       "19        0.000000         0.000000              3.000000         0.000000  "
      ]
     },
     "execution_count": 9,
     "metadata": {},
     "output_type": "execute_result"
    }
   ],
   "source": [
    "K = 4 # Num. de vecinos menos uno porque el primero es la propia finca\n",
    "\n",
    "offset = X_modelar.shape[0]\n",
    "y_map = {'RESIDENTIAL':5,'INDUSTRIAL':1,'PUBLIC':4,'RETAIL':6,'OFFICE':2,'OTHER':3,'AGRICULTURE':0}\n",
    "\n",
    "col_names = []\n",
    "\n",
    "for i in range(7):\n",
    "    col_names.append(str('contexto_'+clf0.classes_[i]))\n",
    "\n",
    "tmp_concat = [] # Por eficiencia, el coste de concatenacion de un df en el for es cuadratico\n",
    "\n",
    "for i in range(X_full.shape[0]):\n",
    "    \n",
    "    #Inicializamos las variables contexto\n",
    "    tmp = [0.0,0.0,0.0,0.0,0.0,0.0,0.0]\n",
    "    \n",
    "    #Obtenemos los vecinos\n",
    "    vecinos_dist, vecinos_indices = spatialTree.query([[X_spatial.iloc[i,0],X_spatial.iloc[i,1]]],k=K)\n",
    "    \n",
    "    for j in range(1,K):\n",
    "        # Para cada vecino sumamos 1 a la variable contexto de la clase de la finca \n",
    "        # O en caso de que se encuentre en X_estimar sumamos las probabilidades\n",
    "        if vecinos_indices[0][j] < offset : \n",
    "            tmp[y_map[y_modelar[j]]] = tmp[y_map[y_modelar[j]]] + 1       \n",
    "        else:\n",
    "            tmp = np.add(tmp, pred_estimar[vecinos_indices[0][j]-offset,:])\n",
    "\n",
    "    tmp_concat.append(tmp)# Probar con softmax tmb\n",
    "\n",
    "contexto  = pd.DataFrame(tmp_concat,columns=col_names)\n",
    "print(contexto.shape)\n",
    "print(X_full.shape)\n",
    "contexto.head(20)"
   ]
  },
  {
   "cell_type": "markdown",
   "metadata": {},
   "source": [
    "Creamos los nuevos datasets con las vadriables contexto añadidas"
   ]
  },
  {
   "cell_type": "code",
   "execution_count": 10,
   "metadata": {},
   "outputs": [
    {
     "name": "stdout",
     "output_type": "stream",
     "text": [
      "(103230, 31)\n",
      "(5618, 31)\n"
     ]
    }
   ],
   "source": [
    "X_modelar2 = pd.concat([X_modelar,contexto[:X_modelar.shape[0]].reindex(X_modelar.index)], axis = 1, sort = False)\n",
    "X_estimar2 = pd.concat([X_estimar, contexto[X_modelar.shape[0]:].reindex(X_estimar.index)], axis = 1, sort = False)\n",
    "print(X_modelar2.shape)\n",
    "print(X_estimar2.shape)"
   ]
  },
  {
   "cell_type": "markdown",
   "metadata": {},
   "source": [
    "Para confirmar que existe una correlación entre las clases y las variables contexto, hacemos una pequeña prueba obteniendo las medias y quartiles de dichas variables según cada clase"
   ]
  },
  {
   "cell_type": "code",
   "execution_count": 11,
   "metadata": {},
   "outputs": [
    {
     "name": "stdout",
     "output_type": "stream",
     "text": [
      "VARIABLE:  contexto_AGRICULTURE\n",
      "                 mean  25%  50%       75%       max\n",
      "CLASE                                              \n",
      "AGRICULTURE  0.143134  0.0  0.0  0.043068  1.544359\n",
      "INDUSTRIAL   0.002417  0.0  0.0  0.000144  0.688718\n",
      "OFFICE       0.000416  0.0  0.0  0.000000  0.105328\n",
      "OTHER        0.000325  0.0  0.0  0.000000  0.158705\n",
      "PUBLIC       0.001772  0.0  0.0  0.000000  0.888890\n",
      "RESIDENTIAL  0.000230  0.0  0.0  0.000000  0.894192\n",
      "RETAIL       0.001170  0.0  0.0  0.000000  0.758736\n",
      "VARIABLE:  contexto_INDUSTRIAL\n",
      "                 mean  25%  50%       75%       max\n",
      "CLASE                                              \n",
      "AGRICULTURE  0.106096  0.0  0.0  0.036482  1.621692\n",
      "INDUSTRIAL   0.209885  0.0  0.0  0.099606  2.726154\n",
      "OFFICE       0.055698  0.0  0.0  0.000000  2.282067\n",
      "OTHER        0.019645  0.0  0.0  0.000000  1.388525\n",
      "PUBLIC       0.019112  0.0  0.0  0.000000  1.809043\n",
      "RESIDENTIAL  0.007231  0.0  0.0  0.000000  1.949833\n",
      "RETAIL       0.031700  0.0  0.0  0.000000  1.397591\n",
      "VARIABLE:  contexto_OFFICE\n",
      "                 mean  25%  50%       75%       max\n",
      "CLASE                                              \n",
      "AGRICULTURE  0.009388  0.0  0.0  0.004611  0.305127\n",
      "INDUSTRIAL   0.022727  0.0  0.0  0.006688  1.111702\n",
      "OFFICE       0.031925  0.0  0.0  0.000000  1.331023\n",
      "OTHER        0.004450  0.0  0.0  0.000000  0.333299\n",
      "PUBLIC       0.008608  0.0  0.0  0.000000  0.706355\n",
      "RESIDENTIAL  0.003217  0.0  0.0  0.000000  0.802994\n",
      "RETAIL       0.008851  0.0  0.0  0.000000  0.623466\n",
      "VARIABLE:  contexto_OTHER\n",
      "                 mean  25%  50%       75%       max\n",
      "CLASE                                              \n",
      "AGRICULTURE  0.006423  0.0  0.0  0.003094  0.185481\n",
      "INDUSTRIAL   0.006057  0.0  0.0  0.001124  0.838503\n",
      "OFFICE       0.004149  0.0  0.0  0.000000  0.443243\n",
      "OTHER        0.014318  0.0  0.0  0.000000  1.141624\n",
      "PUBLIC       0.007903  0.0  0.0  0.000000  0.706479\n",
      "RESIDENTIAL  0.003915  0.0  0.0  0.000000  1.141607\n",
      "RETAIL       0.005970  0.0  0.0  0.000000  0.783767\n",
      "VARIABLE:  contexto_PUBLIC\n",
      "                 mean  25%  50%       75%       max\n",
      "CLASE                                              \n",
      "AGRICULTURE  0.027528  0.0  0.0  0.016331  0.816520\n",
      "INDUSTRIAL   0.014086  0.0  0.0  0.005645  0.821286\n",
      "OFFICE       0.020864  0.0  0.0  0.000000  1.364401\n",
      "OTHER        0.011861  0.0  0.0  0.000000  0.744606\n",
      "PUBLIC       0.028014  0.0  0.0  0.000000  1.762413\n",
      "RESIDENTIAL  0.006605  0.0  0.0  0.000000  1.008321\n",
      "RETAIL       0.012682  0.0  0.0  0.000000  1.044307\n",
      "VARIABLE:  contexto_RESIDENTIAL\n",
      "                 mean       25%  50%  75%  max\n",
      "CLASE                                         \n",
      "AGRICULTURE  2.698427  2.347125  3.0  3.0  3.0\n",
      "INDUSTRIAL   2.732478  2.539034  3.0  3.0  3.0\n",
      "OFFICE       2.874837  3.000000  3.0  3.0  3.0\n",
      "OTHER        2.942298  3.000000  3.0  3.0  3.0\n",
      "PUBLIC       2.927316  3.000000  3.0  3.0  3.0\n",
      "RESIDENTIAL  2.974524  3.000000  3.0  3.0  3.0\n",
      "RETAIL       2.898122  3.000000  3.0  3.0  3.0\n",
      "VARIABLE:  contexto_RETAIL\n",
      "                 mean  25%  50%       75%       max\n",
      "CLASE                                              \n",
      "AGRICULTURE  0.009004  0.0  0.0  0.008588  0.171920\n",
      "INDUSTRIAL   0.012349  0.0  0.0  0.008964  0.842590\n",
      "OFFICE       0.012111  0.0  0.0  0.000000  0.820636\n",
      "OTHER        0.007102  0.0  0.0  0.000000  1.012612\n",
      "PUBLIC       0.007275  0.0  0.0  0.000000  0.885409\n",
      "RESIDENTIAL  0.004278  0.0  0.0  0.000000  1.748576\n",
      "RETAIL       0.041505  0.0  0.0  0.000000  1.694512\n"
     ]
    }
   ],
   "source": [
    "Xy = pd.concat([X_modelar2,y_modelar], axis = 1, sort = False)\n",
    "\n",
    "g = Xy.groupby('CLASE')\n",
    "for var in Xy.columns[24:31]:\n",
    "    print('VARIABLE: ', var)\n",
    "    print(g[var].describe().drop(columns=['count','std','min']))"
   ]
  },
  {
   "cell_type": "markdown",
   "metadata": {},
   "source": [
    "Eliminamos contexto_RESIDENTIAL"
   ]
  },
  {
   "cell_type": "code",
   "execution_count": 12,
   "metadata": {},
   "outputs": [],
   "source": [
    "contexto.drop('contexto_RESIDENTIAL',axis=1,inplace=True)"
   ]
  },
  {
   "cell_type": "markdown",
   "metadata": {},
   "source": [
    "### Crear y testear el modelo"
   ]
  },
  {
   "cell_type": "markdown",
   "metadata": {},
   "source": [
    "El siguiente modelo se explica más en detalle en el documento adjunto.\n",
    "\n",
    "Sigue el modelo propuesto en el siguiente paper:\n",
    "\n",
    "Enhancing classification performance of multi-class imbalanced data using the OAA-DB algorithm\n",
    "https://www.researchgate.net/publication/261086899\n",
    "\n",
    "Las principales diferencias con el modelo del paper es que se ha utilizazo Decission Trees en vez de redes neuronales y para el balanceamiento de los datos, la técnica de oversampling es la misma SMOTE pero la tecnica de undersampling es la eliminación de los Tomek links en vez de la red neuronal complementaria de veracidad y falsedad propuesta en el paper. Esta elección se ha hecho por simplicidad.\n"
   ]
  },
  {
   "cell_type": "code",
   "execution_count": 13,
   "metadata": {},
   "outputs": [],
   "source": [
    "X_train, X_test, y_train, y_test = train_test_split(X_modelar2,y_modelar,test_size = 0.2,shuffle=True)"
   ]
  },
  {
   "cell_type": "markdown",
   "metadata": {},
   "source": [
    "El primer clasificador usa el dataset sin balancear, creado en la sección anterior con las variables contexto."
   ]
  },
  {
   "cell_type": "code",
   "execution_count": null,
   "metadata": {},
   "outputs": [],
   "source": [
    "#eval_set = [(X_train, y_train), (X_test, y_test)]\n",
    "\n",
    "model = xgb.XGBClassifier(random_state=420,tree_method='gpu_hist',objective=\"binary:logistic\",eval_metric=\"logloss\", \n",
    "                      #eval_set=eval_set, \n",
    "                      learning_rate=0.01,  \n",
    "                      colsample_bytree = 0.4,\n",
    "                      subsample = 0.8, \n",
    "                      n_estimators=1000, \n",
    "                      max_depth=10,\n",
    "                      gamma=0.005,\n",
    "                      reg_alpha=0.05,\n",
    "                      reg_lambda=1.0,\n",
    "                     # early_stopping_rounds=20\n",
    "                    )\n",
    "\n",
    "clf1 = OneVsRestClassifier(model,n_jobs=3).fit(X_train,y_train)"
   ]
  },
  {
   "cell_type": "code",
   "execution_count": 16,
   "metadata": {},
   "outputs": [],
   "source": [
    "pred = clf1.predict(X_test)"
   ]
  },
  {
   "cell_type": "code",
   "execution_count": 17,
   "metadata": {
    "scrolled": false
   },
   "outputs": [
    {
     "name": "stdout",
     "output_type": "stream",
     "text": [
      "       f1  precision    recall  accuracy\n",
      "0  0.5127   0.913204  0.913204  0.913204\n"
     ]
    },
    {
     "data": {
      "image/png": "[encoded data removed]",
      "text/plain": [
       "<Figure size 1008x1008 with 2 Axes>"
      ]
     },
     "metadata": {
      "needs_background": "light"
     },
     "output_type": "display_data"
    }
   ],
   "source": [
    "scores = []\n",
    "\n",
    "scores.append((f1_score(y_test,pred,average='macro'), precision_score(y_test,pred,average='micro'), recall_score(y_test,pred,average='micro'), accuracy_score(y_test,pred)))\n",
    "\n",
    "results = pd.DataFrame(scores,columns=['f1','precision','recall','accuracy'])\n",
    "\n",
    "print(results)\n",
    "\n",
    "lib.make_confusion_matrix(confusion_matrix(y_test,pred), figsize=(14,14), cbar=True)"
   ]
  },
  {
   "cell_type": "markdown",
   "metadata": {
    "collapsed": true
   },
   "source": [
    "A continuación se crea el dataset balanceado para el segundo clasificador, este dataset no contiene las variables contexto"
   ]
  },
  {
   "cell_type": "code",
   "execution_count": 18,
   "metadata": {},
   "outputs": [
    {
     "name": "stdout",
     "output_type": "stream",
     "text": [
      "82584\n",
      "82584\n",
      "479754\n",
      "479754\n"
     ]
    }
   ],
   "source": [
    "print(X_train.shape[0])\n",
    "print(y_train.shape[0])\n",
    "#sampling_strategy=over_dict\n",
    "transformer = SMOTETomek(n_jobs=12)\n",
    "X_train2 = X_train.drop(X_train.columns[24:31],inplace=False,axis=1)\n",
    "X_test2 = X_test.drop(X_test.columns[24:31],inplace=False,axis=1)\n",
    "X_smote, y_smote = transformer.fit_resample(X_train2, y_train)\n",
    "print(X_smote.shape[0])\n",
    "print(y_smote.shape[0])"
   ]
  },
  {
   "cell_type": "markdown",
   "metadata": {},
   "source": [
    "Se entrena al segundo clasificador sobre los datos balanceados"
   ]
  },
  {
   "cell_type": "code",
   "execution_count": 19,
   "metadata": {},
   "outputs": [],
   "source": [
    "#X_smote, X_smote_test, y_smote, y_smote_test = train_test_split(X_train2,y_train2,test_size = 0.2,shuffle=True)\n",
    "#eval_set = [(X_smote, y_smote), (X_smote_test, y_smote_test)]\n",
    "\n",
    "\n",
    "#n_jobs = X a veces da un problema de concurrencia diff a un memory overflow\n",
    "#modelB = clf2 = svm.SVC(kernel='rbf')\n",
    "clf2 = OneVsRestClassifier(model, n_jobs=3).fit(X_smote,y_smote)\n",
    "#clf3 = OneVsOneClassifier(modelB).fit(X_smote,y_smote)"
   ]
  },
  {
   "cell_type": "code",
   "execution_count": 20,
   "metadata": {},
   "outputs": [],
   "source": [
    "pred = clf2.predict(X_test2)"
   ]
  },
  {
   "cell_type": "code",
   "execution_count": 21,
   "metadata": {},
   "outputs": [
    {
     "name": "stdout",
     "output_type": "stream",
     "text": [
      "         f1  precision    recall  accuracy\n",
      "0  0.456556   0.767461  0.767461  0.767461\n"
     ]
    },
    {
     "data": {
      "image/png": "[encoded data removed]",
      "text/plain": [
       "<Figure size 1008x1008 with 2 Axes>"
      ]
     },
     "metadata": {
      "needs_background": "light"
     },
     "output_type": "display_data"
    }
   ],
   "source": [
    "scores = []\n",
    "\n",
    "scores.append((f1_score(y_test,pred,average='macro'), precision_score(y_test,pred,average='micro'), recall_score(y_test,pred,average='micro'), accuracy_score(y_test,pred)))\n",
    "\n",
    "results = pd.DataFrame(scores,columns=['f1','precision','recall','accuracy'])\n",
    "\n",
    "print(results)\n",
    "\n",
    "lib.make_confusion_matrix(confusion_matrix(y_test,pred), figsize=(14,14), cbar=True)"
   ]
  },
  {
   "cell_type": "markdown",
   "metadata": {},
   "source": [
    "### Modelo predicción final según los dos clasificadores"
   ]
  },
  {
   "cell_type": "markdown",
   "metadata": {},
   "source": [
    "A continuación se define la función que realiza las predicciónes sefun el algoritmo propuesto en el paper y que esta explicado en detalle en el documento adjunto.\n",
    "\n",
    "Se adjunta una imagen flowchart para entenderlo más fácil.\n",
    "\n",
    "Principales diferencias:\n",
    "- Undersampling mediante Tomek Links en vez de CMTNN\n",
    "- Threshold del primer clasificador en 15% en vez de 50%"
   ]
  },
  {
   "attachments": {
    "image.png": {
     "image/png": "[encoded data removed]"
    }
   },
   "cell_type": "markdown",
   "metadata": {},
   "source": [
    "![image.png](attachment:image.png)"
   ]
  },
  {
   "cell_type": "code",
   "execution_count": 22,
   "metadata": {},
   "outputs": [],
   "source": [
    "def finalPrediction(X_test):\n",
    "    \n",
    "    print(clf1.classes_)\n",
    "    \n",
    "    # Predicciones según el primer clasificador\n",
    "    predA = clf1.predict_proba(X_test)\n",
    "    \n",
    "    # Predicciones según el segundo clasificador\n",
    "    X_test2 = X_test.drop(X_test.columns[24:31],inplace=False,axis=1)\n",
    "    predB = clf2.predict_proba(X_test2)\n",
    "\n",
    "    probNames = clf1.classes_\n",
    "    \n",
    "    # Estas variables las uso para saber cuantas predicciones se han hecho en cada fase\n",
    "    c1=0\n",
    "    c2=0\n",
    "    c3=0\n",
    "\n",
    "    predFinal = []\n",
    "    \n",
    "    # Para cada observación a predecir\n",
    "    for i in range(X_test.shape[0]):\n",
    "        tmp1 = []\n",
    "        for j in range(7):\n",
    "            # Añadimos a tmp1 las clases con mas de un 15% de probabilidad\n",
    "            # según el primer clasificador\n",
    "            if predA[i,j] > 0.15:\n",
    "                tmp1.append(probNames[j])\n",
    "                \n",
    "        # Si solo hay una clase ya tenemos predicción\n",
    "        if  len(tmp1) == 1:\n",
    "            predFinal.append(tmp1[0])\n",
    "            c1+=1\n",
    "        else:\n",
    "            tmp2 = []\n",
    "            for j in range(7):\n",
    "                # Añadimos a tmp2 las clases con mas de un 50% de probabilidad\n",
    "                # según el segundo clasificador\n",
    "                if predB[i,j] > 0.5:\n",
    "                    tmp2.append(probNames[j])\n",
    "                    \n",
    "            # Si solo hay una clase ya tenemos predicción\n",
    "            if  len(tmp2) == 1:\n",
    "                predFinal.append(tmp2[0])\n",
    "                c2+=1\n",
    "            # Sino la predicción es la clase con más probabilidad según el primer clasificador\n",
    "            else:\n",
    "                max_index = np.argmax(predA[i,:])\n",
    "                predFinal.append(probNames[max_index])\n",
    "                c3+=1\n",
    "                    \n",
    "    print('Predicciones en fase 1',c1)\n",
    "    print('Predicciones en fase 2',c2)\n",
    "    print('Predicciones vuelta a fase 1',c3)\n",
    "    \n",
    "    return predFinal"
   ]
  },
  {
   "cell_type": "code",
   "execution_count": 39,
   "metadata": {},
   "outputs": [
    {
     "name": "stdout",
     "output_type": "stream",
     "text": [
      "['AGRICULTURE' 'INDUSTRIAL' 'OFFICE' 'OTHER' 'PUBLIC' 'RESIDENTIAL'\n",
      " 'RETAIL']\n",
      "19365\n",
      "1040\n",
      "241\n",
      "         f1  precision    recall  accuracy\n",
      "0  0.831944   0.958588  0.958588  0.958588\n"
     ]
    },
    {
     "data": {
      "image/png": "[encoded data removed]",
      "text/plain": [
       "<Figure size 1008x1008 with 2 Axes>"
      ]
     },
     "metadata": {
      "needs_background": "light"
     },
     "output_type": "display_data"
    }
   ],
   "source": [
    "pred = finalPrediction(X_test)\n",
    "\n",
    "scores = []\n",
    "\n",
    "\n",
    "scores.append((f1_score(y_test,pred,average='macro'), precision_score(y_test,pred,average='micro'), recall_score(y_test,pred,average='micro'), accuracy_score(y_test,pred)))\n",
    "\n",
    "results = pd.DataFrame(scores,columns=['f1','precision','recall','accuracy'])\n",
    "\n",
    "print(results)\n",
    "\n",
    "lib.make_confusion_matrix(confusion_matrix(y_test,pred), figsize=(14,14), cbar=True)"
   ]
  },
  {
   "cell_type": "markdown",
   "metadata": {},
   "source": [
    "El siguiente apartado lo uso para ver probabilidades y ver como se comporta el algoritmo, no tiene mucha importancia"
   ]
  },
  {
   "cell_type": "code",
   "execution_count": 24,
   "metadata": {},
   "outputs": [],
   "source": [
    "predA = clf1.predict_proba(X_test)\n",
    "predB = clf2.predict_proba(X_test2)\n",
    "\n",
    "df_predA = pd.DataFrame(predA,columns=clf1.classes_)\n",
    "df_predB = pd.DataFrame(predB,columns=clf2.classes_)"
   ]
  },
  {
   "cell_type": "code",
   "execution_count": 25,
   "metadata": {
    "collapsed": true
   },
   "outputs": [
    {
     "data": {
      "text/plain": [
       "279      RESIDENTIAL\n",
       "46772         PUBLIC\n",
       "81457    RESIDENTIAL\n",
       "19715    RESIDENTIAL\n",
       "7390     RESIDENTIAL\n",
       "89753    RESIDENTIAL\n",
       "34192     INDUSTRIAL\n",
       "9848     RESIDENTIAL\n",
       "26638    RESIDENTIAL\n",
       "6186     RESIDENTIAL\n",
       "4809     RESIDENTIAL\n",
       "35537    RESIDENTIAL\n",
       "95773    RESIDENTIAL\n",
       "69160    RESIDENTIAL\n",
       "83510    RESIDENTIAL\n",
       "3730      INDUSTRIAL\n",
       "11675         RETAIL\n",
       "74162    RESIDENTIAL\n",
       "28909    RESIDENTIAL\n",
       "94344    RESIDENTIAL\n",
       "Name: CLASE, dtype: category\n",
       "Categories (7, object): [AGRICULTURE, INDUSTRIAL, OFFICE, OTHER, PUBLIC, RESIDENTIAL, RETAIL]"
      ]
     },
     "execution_count": 25,
     "metadata": {},
     "output_type": "execute_result"
    }
   ],
   "source": [
    "y_test.head(20)"
   ]
  },
  {
   "cell_type": "code",
   "execution_count": 26,
   "metadata": {
    "collapsed": true
   },
   "outputs": [
    {
     "data": {
      "text/html": [
       "<div>\n",
       "<style scoped>\n",
       "    .dataframe tbody tr th:only-of-type {\n",
       "        vertical-align: middle;\n",
       "    }\n",
       "\n",
       "    .dataframe tbody tr th {\n",
       "        vertical-align: top;\n",
       "    }\n",
       "\n",
       "    .dataframe thead th {\n",
       "        text-align: right;\n",
       "    }\n",
       "</style>\n",
       "<table border=\"1\" class=\"dataframe\">\n",
       "  <thead>\n",
       "    <tr style=\"text-align: right;\">\n",
       "      <th></th>\n",
       "      <th>AGRICULTURE</th>\n",
       "      <th>INDUSTRIAL</th>\n",
       "      <th>OFFICE</th>\n",
       "      <th>OTHER</th>\n",
       "      <th>PUBLIC</th>\n",
       "      <th>RESIDENTIAL</th>\n",
       "      <th>RETAIL</th>\n",
       "    </tr>\n",
       "  </thead>\n",
       "  <tbody>\n",
       "    <tr>\n",
       "      <th>0</th>\n",
       "      <td>0.000250</td>\n",
       "      <td>0.001046</td>\n",
       "      <td>0.000253</td>\n",
       "      <td>0.000318</td>\n",
       "      <td>0.000596</td>\n",
       "      <td>0.996076</td>\n",
       "      <td>0.001461</td>\n",
       "    </tr>\n",
       "    <tr>\n",
       "      <th>1</th>\n",
       "      <td>0.000094</td>\n",
       "      <td>0.006800</td>\n",
       "      <td>0.037084</td>\n",
       "      <td>0.025699</td>\n",
       "      <td>0.093949</td>\n",
       "      <td>0.833703</td>\n",
       "      <td>0.002672</td>\n",
       "    </tr>\n",
       "    <tr>\n",
       "      <th>2</th>\n",
       "      <td>0.000061</td>\n",
       "      <td>0.002421</td>\n",
       "      <td>0.000432</td>\n",
       "      <td>0.000798</td>\n",
       "      <td>0.001369</td>\n",
       "      <td>0.992635</td>\n",
       "      <td>0.002284</td>\n",
       "    </tr>\n",
       "    <tr>\n",
       "      <th>3</th>\n",
       "      <td>0.000045</td>\n",
       "      <td>0.001963</td>\n",
       "      <td>0.001822</td>\n",
       "      <td>0.006059</td>\n",
       "      <td>0.003407</td>\n",
       "      <td>0.980408</td>\n",
       "      <td>0.006296</td>\n",
       "    </tr>\n",
       "    <tr>\n",
       "      <th>4</th>\n",
       "      <td>0.000060</td>\n",
       "      <td>0.014332</td>\n",
       "      <td>0.001498</td>\n",
       "      <td>0.000525</td>\n",
       "      <td>0.002333</td>\n",
       "      <td>0.978719</td>\n",
       "      <td>0.002534</td>\n",
       "    </tr>\n",
       "    <tr>\n",
       "      <th>5</th>\n",
       "      <td>0.000061</td>\n",
       "      <td>0.005230</td>\n",
       "      <td>0.001802</td>\n",
       "      <td>0.000590</td>\n",
       "      <td>0.003144</td>\n",
       "      <td>0.963339</td>\n",
       "      <td>0.025834</td>\n",
       "    </tr>\n",
       "    <tr>\n",
       "      <th>6</th>\n",
       "      <td>0.000248</td>\n",
       "      <td>0.819589</td>\n",
       "      <td>0.039929</td>\n",
       "      <td>0.007737</td>\n",
       "      <td>0.034022</td>\n",
       "      <td>0.054099</td>\n",
       "      <td>0.044376</td>\n",
       "    </tr>\n",
       "    <tr>\n",
       "      <th>7</th>\n",
       "      <td>0.000176</td>\n",
       "      <td>0.002650</td>\n",
       "      <td>0.001098</td>\n",
       "      <td>0.000242</td>\n",
       "      <td>0.002230</td>\n",
       "      <td>0.990101</td>\n",
       "      <td>0.003504</td>\n",
       "    </tr>\n",
       "    <tr>\n",
       "      <th>8</th>\n",
       "      <td>0.000293</td>\n",
       "      <td>0.028415</td>\n",
       "      <td>0.003272</td>\n",
       "      <td>0.001896</td>\n",
       "      <td>0.031456</td>\n",
       "      <td>0.915994</td>\n",
       "      <td>0.018674</td>\n",
       "    </tr>\n",
       "    <tr>\n",
       "      <th>9</th>\n",
       "      <td>0.000056</td>\n",
       "      <td>0.032950</td>\n",
       "      <td>0.073498</td>\n",
       "      <td>0.020269</td>\n",
       "      <td>0.154960</td>\n",
       "      <td>0.695357</td>\n",
       "      <td>0.022910</td>\n",
       "    </tr>\n",
       "    <tr>\n",
       "      <th>10</th>\n",
       "      <td>0.000057</td>\n",
       "      <td>0.004413</td>\n",
       "      <td>0.001636</td>\n",
       "      <td>0.000848</td>\n",
       "      <td>0.009553</td>\n",
       "      <td>0.972656</td>\n",
       "      <td>0.010837</td>\n",
       "    </tr>\n",
       "    <tr>\n",
       "      <th>11</th>\n",
       "      <td>0.000051</td>\n",
       "      <td>0.001959</td>\n",
       "      <td>0.001064</td>\n",
       "      <td>0.000493</td>\n",
       "      <td>0.003152</td>\n",
       "      <td>0.991726</td>\n",
       "      <td>0.001555</td>\n",
       "    </tr>\n",
       "    <tr>\n",
       "      <th>12</th>\n",
       "      <td>0.000586</td>\n",
       "      <td>0.000811</td>\n",
       "      <td>0.001424</td>\n",
       "      <td>0.000521</td>\n",
       "      <td>0.001185</td>\n",
       "      <td>0.993830</td>\n",
       "      <td>0.001642</td>\n",
       "    </tr>\n",
       "    <tr>\n",
       "      <th>13</th>\n",
       "      <td>0.000079</td>\n",
       "      <td>0.002153</td>\n",
       "      <td>0.001494</td>\n",
       "      <td>0.005072</td>\n",
       "      <td>0.003753</td>\n",
       "      <td>0.986155</td>\n",
       "      <td>0.001294</td>\n",
       "    </tr>\n",
       "    <tr>\n",
       "      <th>14</th>\n",
       "      <td>0.000051</td>\n",
       "      <td>0.011110</td>\n",
       "      <td>0.000974</td>\n",
       "      <td>0.001957</td>\n",
       "      <td>0.001553</td>\n",
       "      <td>0.971889</td>\n",
       "      <td>0.012467</td>\n",
       "    </tr>\n",
       "    <tr>\n",
       "      <th>15</th>\n",
       "      <td>0.074781</td>\n",
       "      <td>0.812236</td>\n",
       "      <td>0.005035</td>\n",
       "      <td>0.001630</td>\n",
       "      <td>0.040622</td>\n",
       "      <td>0.059723</td>\n",
       "      <td>0.005972</td>\n",
       "    </tr>\n",
       "    <tr>\n",
       "      <th>16</th>\n",
       "      <td>0.000093</td>\n",
       "      <td>0.019396</td>\n",
       "      <td>0.013174</td>\n",
       "      <td>0.003372</td>\n",
       "      <td>0.007790</td>\n",
       "      <td>0.942570</td>\n",
       "      <td>0.013605</td>\n",
       "    </tr>\n",
       "    <tr>\n",
       "      <th>17</th>\n",
       "      <td>0.000051</td>\n",
       "      <td>0.001202</td>\n",
       "      <td>0.000592</td>\n",
       "      <td>0.001778</td>\n",
       "      <td>0.001766</td>\n",
       "      <td>0.993331</td>\n",
       "      <td>0.001281</td>\n",
       "    </tr>\n",
       "    <tr>\n",
       "      <th>18</th>\n",
       "      <td>0.000093</td>\n",
       "      <td>0.003484</td>\n",
       "      <td>0.017793</td>\n",
       "      <td>0.001174</td>\n",
       "      <td>0.004531</td>\n",
       "      <td>0.969565</td>\n",
       "      <td>0.003360</td>\n",
       "    </tr>\n",
       "    <tr>\n",
       "      <th>19</th>\n",
       "      <td>0.000454</td>\n",
       "      <td>0.090106</td>\n",
       "      <td>0.011705</td>\n",
       "      <td>0.616719</td>\n",
       "      <td>0.137391</td>\n",
       "      <td>0.140711</td>\n",
       "      <td>0.002913</td>\n",
       "    </tr>\n",
       "  </tbody>\n",
       "</table>\n",
       "</div>"
      ],
      "text/plain": [
       "    AGRICULTURE  INDUSTRIAL    OFFICE     OTHER    PUBLIC  RESIDENTIAL  \\\n",
       "0      0.000250    0.001046  0.000253  0.000318  0.000596     0.996076   \n",
       "1      0.000094    0.006800  0.037084  0.025699  0.093949     0.833703   \n",
       "2      0.000061    0.002421  0.000432  0.000798  0.001369     0.992635   \n",
       "3      0.000045    0.001963  0.001822  0.006059  0.003407     0.980408   \n",
       "4      0.000060    0.014332  0.001498  0.000525  0.002333     0.978719   \n",
       "5      0.000061    0.005230  0.001802  0.000590  0.003144     0.963339   \n",
       "6      0.000248    0.819589  0.039929  0.007737  0.034022     0.054099   \n",
       "7      0.000176    0.002650  0.001098  0.000242  0.002230     0.990101   \n",
       "8      0.000293    0.028415  0.003272  0.001896  0.031456     0.915994   \n",
       "9      0.000056    0.032950  0.073498  0.020269  0.154960     0.695357   \n",
       "10     0.000057    0.004413  0.001636  0.000848  0.009553     0.972656   \n",
       "11     0.000051    0.001959  0.001064  0.000493  0.003152     0.991726   \n",
       "12     0.000586    0.000811  0.001424  0.000521  0.001185     0.993830   \n",
       "13     0.000079    0.002153  0.001494  0.005072  0.003753     0.986155   \n",
       "14     0.000051    0.011110  0.000974  0.001957  0.001553     0.971889   \n",
       "15     0.074781    0.812236  0.005035  0.001630  0.040622     0.059723   \n",
       "16     0.000093    0.019396  0.013174  0.003372  0.007790     0.942570   \n",
       "17     0.000051    0.001202  0.000592  0.001778  0.001766     0.993331   \n",
       "18     0.000093    0.003484  0.017793  0.001174  0.004531     0.969565   \n",
       "19     0.000454    0.090106  0.011705  0.616719  0.137391     0.140711   \n",
       "\n",
       "      RETAIL  \n",
       "0   0.001461  \n",
       "1   0.002672  \n",
       "2   0.002284  \n",
       "3   0.006296  \n",
       "4   0.002534  \n",
       "5   0.025834  \n",
       "6   0.044376  \n",
       "7   0.003504  \n",
       "8   0.018674  \n",
       "9   0.022910  \n",
       "10  0.010837  \n",
       "11  0.001555  \n",
       "12  0.001642  \n",
       "13  0.001294  \n",
       "14  0.012467  \n",
       "15  0.005972  \n",
       "16  0.013605  \n",
       "17  0.001281  \n",
       "18  0.003360  \n",
       "19  0.002913  "
      ]
     },
     "execution_count": 26,
     "metadata": {},
     "output_type": "execute_result"
    }
   ],
   "source": [
    "df_predA.head(20)"
   ]
  },
  {
   "cell_type": "code",
   "execution_count": 27,
   "metadata": {
    "collapsed": true
   },
   "outputs": [
    {
     "data": {
      "text/html": [
       "<div>\n",
       "<style scoped>\n",
       "    .dataframe tbody tr th:only-of-type {\n",
       "        vertical-align: middle;\n",
       "    }\n",
       "\n",
       "    .dataframe tbody tr th {\n",
       "        vertical-align: top;\n",
       "    }\n",
       "\n",
       "    .dataframe thead th {\n",
       "        text-align: right;\n",
       "    }\n",
       "</style>\n",
       "<table border=\"1\" class=\"dataframe\">\n",
       "  <thead>\n",
       "    <tr style=\"text-align: right;\">\n",
       "      <th></th>\n",
       "      <th>AGRICULTURE</th>\n",
       "      <th>INDUSTRIAL</th>\n",
       "      <th>OFFICE</th>\n",
       "      <th>OTHER</th>\n",
       "      <th>PUBLIC</th>\n",
       "      <th>RESIDENTIAL</th>\n",
       "      <th>RETAIL</th>\n",
       "    </tr>\n",
       "  </thead>\n",
       "  <tbody>\n",
       "    <tr>\n",
       "      <th>0</th>\n",
       "      <td>0.000732</td>\n",
       "      <td>0.004486</td>\n",
       "      <td>0.000448</td>\n",
       "      <td>0.001668</td>\n",
       "      <td>0.001513</td>\n",
       "      <td>0.978470</td>\n",
       "      <td>0.012682</td>\n",
       "    </tr>\n",
       "    <tr>\n",
       "      <th>1</th>\n",
       "      <td>0.000048</td>\n",
       "      <td>0.006895</td>\n",
       "      <td>0.039602</td>\n",
       "      <td>0.115044</td>\n",
       "      <td>0.389514</td>\n",
       "      <td>0.445955</td>\n",
       "      <td>0.002942</td>\n",
       "    </tr>\n",
       "    <tr>\n",
       "      <th>2</th>\n",
       "      <td>0.000033</td>\n",
       "      <td>0.015465</td>\n",
       "      <td>0.000463</td>\n",
       "      <td>0.006377</td>\n",
       "      <td>0.002319</td>\n",
       "      <td>0.949706</td>\n",
       "      <td>0.025637</td>\n",
       "    </tr>\n",
       "    <tr>\n",
       "      <th>3</th>\n",
       "      <td>0.000038</td>\n",
       "      <td>0.011533</td>\n",
       "      <td>0.026670</td>\n",
       "      <td>0.189120</td>\n",
       "      <td>0.019162</td>\n",
       "      <td>0.583195</td>\n",
       "      <td>0.170282</td>\n",
       "    </tr>\n",
       "    <tr>\n",
       "      <th>4</th>\n",
       "      <td>0.000063</td>\n",
       "      <td>0.081584</td>\n",
       "      <td>0.019137</td>\n",
       "      <td>0.001720</td>\n",
       "      <td>0.011259</td>\n",
       "      <td>0.841580</td>\n",
       "      <td>0.044658</td>\n",
       "    </tr>\n",
       "    <tr>\n",
       "      <th>5</th>\n",
       "      <td>0.000070</td>\n",
       "      <td>0.049398</td>\n",
       "      <td>0.018295</td>\n",
       "      <td>0.003259</td>\n",
       "      <td>0.008598</td>\n",
       "      <td>0.626977</td>\n",
       "      <td>0.293402</td>\n",
       "    </tr>\n",
       "    <tr>\n",
       "      <th>6</th>\n",
       "      <td>0.000066</td>\n",
       "      <td>0.784329</td>\n",
       "      <td>0.089428</td>\n",
       "      <td>0.007319</td>\n",
       "      <td>0.044252</td>\n",
       "      <td>0.002403</td>\n",
       "      <td>0.072202</td>\n",
       "    </tr>\n",
       "    <tr>\n",
       "      <th>7</th>\n",
       "      <td>0.000343</td>\n",
       "      <td>0.023692</td>\n",
       "      <td>0.005831</td>\n",
       "      <td>0.000609</td>\n",
       "      <td>0.044150</td>\n",
       "      <td>0.908568</td>\n",
       "      <td>0.016806</td>\n",
       "    </tr>\n",
       "    <tr>\n",
       "      <th>8</th>\n",
       "      <td>0.000629</td>\n",
       "      <td>0.065098</td>\n",
       "      <td>0.047585</td>\n",
       "      <td>0.007058</td>\n",
       "      <td>0.318119</td>\n",
       "      <td>0.421460</td>\n",
       "      <td>0.140051</td>\n",
       "    </tr>\n",
       "    <tr>\n",
       "      <th>9</th>\n",
       "      <td>0.000044</td>\n",
       "      <td>0.064366</td>\n",
       "      <td>0.226725</td>\n",
       "      <td>0.035783</td>\n",
       "      <td>0.501820</td>\n",
       "      <td>0.073294</td>\n",
       "      <td>0.097968</td>\n",
       "    </tr>\n",
       "    <tr>\n",
       "      <th>10</th>\n",
       "      <td>0.000043</td>\n",
       "      <td>0.021138</td>\n",
       "      <td>0.014142</td>\n",
       "      <td>0.009722</td>\n",
       "      <td>0.170522</td>\n",
       "      <td>0.596399</td>\n",
       "      <td>0.188034</td>\n",
       "    </tr>\n",
       "    <tr>\n",
       "      <th>11</th>\n",
       "      <td>0.000051</td>\n",
       "      <td>0.011308</td>\n",
       "      <td>0.023655</td>\n",
       "      <td>0.003886</td>\n",
       "      <td>0.072894</td>\n",
       "      <td>0.871457</td>\n",
       "      <td>0.016748</td>\n",
       "    </tr>\n",
       "    <tr>\n",
       "      <th>12</th>\n",
       "      <td>0.010730</td>\n",
       "      <td>0.004255</td>\n",
       "      <td>0.005870</td>\n",
       "      <td>0.002387</td>\n",
       "      <td>0.005572</td>\n",
       "      <td>0.953336</td>\n",
       "      <td>0.017851</td>\n",
       "    </tr>\n",
       "    <tr>\n",
       "      <th>13</th>\n",
       "      <td>0.000060</td>\n",
       "      <td>0.008873</td>\n",
       "      <td>0.008765</td>\n",
       "      <td>0.036792</td>\n",
       "      <td>0.016916</td>\n",
       "      <td>0.924122</td>\n",
       "      <td>0.004472</td>\n",
       "    </tr>\n",
       "    <tr>\n",
       "      <th>14</th>\n",
       "      <td>0.000047</td>\n",
       "      <td>0.054640</td>\n",
       "      <td>0.006351</td>\n",
       "      <td>0.010390</td>\n",
       "      <td>0.007329</td>\n",
       "      <td>0.725076</td>\n",
       "      <td>0.196168</td>\n",
       "    </tr>\n",
       "    <tr>\n",
       "      <th>15</th>\n",
       "      <td>0.039277</td>\n",
       "      <td>0.942050</td>\n",
       "      <td>0.000443</td>\n",
       "      <td>0.000764</td>\n",
       "      <td>0.003931</td>\n",
       "      <td>0.012264</td>\n",
       "      <td>0.001272</td>\n",
       "    </tr>\n",
       "    <tr>\n",
       "      <th>16</th>\n",
       "      <td>0.000044</td>\n",
       "      <td>0.198822</td>\n",
       "      <td>0.126189</td>\n",
       "      <td>0.039851</td>\n",
       "      <td>0.016690</td>\n",
       "      <td>0.391325</td>\n",
       "      <td>0.227079</td>\n",
       "    </tr>\n",
       "    <tr>\n",
       "      <th>17</th>\n",
       "      <td>0.000065</td>\n",
       "      <td>0.003560</td>\n",
       "      <td>0.011816</td>\n",
       "      <td>0.018700</td>\n",
       "      <td>0.012353</td>\n",
       "      <td>0.935166</td>\n",
       "      <td>0.018340</td>\n",
       "    </tr>\n",
       "    <tr>\n",
       "      <th>18</th>\n",
       "      <td>0.000059</td>\n",
       "      <td>0.006623</td>\n",
       "      <td>0.213427</td>\n",
       "      <td>0.002132</td>\n",
       "      <td>0.004032</td>\n",
       "      <td>0.761126</td>\n",
       "      <td>0.012601</td>\n",
       "    </tr>\n",
       "    <tr>\n",
       "      <th>19</th>\n",
       "      <td>0.000085</td>\n",
       "      <td>0.013348</td>\n",
       "      <td>0.004473</td>\n",
       "      <td>0.786260</td>\n",
       "      <td>0.176086</td>\n",
       "      <td>0.019076</td>\n",
       "      <td>0.000673</td>\n",
       "    </tr>\n",
       "  </tbody>\n",
       "</table>\n",
       "</div>"
      ],
      "text/plain": [
       "    AGRICULTURE  INDUSTRIAL    OFFICE     OTHER    PUBLIC  RESIDENTIAL  \\\n",
       "0      0.000732    0.004486  0.000448  0.001668  0.001513     0.978470   \n",
       "1      0.000048    0.006895  0.039602  0.115044  0.389514     0.445955   \n",
       "2      0.000033    0.015465  0.000463  0.006377  0.002319     0.949706   \n",
       "3      0.000038    0.011533  0.026670  0.189120  0.019162     0.583195   \n",
       "4      0.000063    0.081584  0.019137  0.001720  0.011259     0.841580   \n",
       "5      0.000070    0.049398  0.018295  0.003259  0.008598     0.626977   \n",
       "6      0.000066    0.784329  0.089428  0.007319  0.044252     0.002403   \n",
       "7      0.000343    0.023692  0.005831  0.000609  0.044150     0.908568   \n",
       "8      0.000629    0.065098  0.047585  0.007058  0.318119     0.421460   \n",
       "9      0.000044    0.064366  0.226725  0.035783  0.501820     0.073294   \n",
       "10     0.000043    0.021138  0.014142  0.009722  0.170522     0.596399   \n",
       "11     0.000051    0.011308  0.023655  0.003886  0.072894     0.871457   \n",
       "12     0.010730    0.004255  0.005870  0.002387  0.005572     0.953336   \n",
       "13     0.000060    0.008873  0.008765  0.036792  0.016916     0.924122   \n",
       "14     0.000047    0.054640  0.006351  0.010390  0.007329     0.725076   \n",
       "15     0.039277    0.942050  0.000443  0.000764  0.003931     0.012264   \n",
       "16     0.000044    0.198822  0.126189  0.039851  0.016690     0.391325   \n",
       "17     0.000065    0.003560  0.011816  0.018700  0.012353     0.935166   \n",
       "18     0.000059    0.006623  0.213427  0.002132  0.004032     0.761126   \n",
       "19     0.000085    0.013348  0.004473  0.786260  0.176086     0.019076   \n",
       "\n",
       "      RETAIL  \n",
       "0   0.012682  \n",
       "1   0.002942  \n",
       "2   0.025637  \n",
       "3   0.170282  \n",
       "4   0.044658  \n",
       "5   0.293402  \n",
       "6   0.072202  \n",
       "7   0.016806  \n",
       "8   0.140051  \n",
       "9   0.097968  \n",
       "10  0.188034  \n",
       "11  0.016748  \n",
       "12  0.017851  \n",
       "13  0.004472  \n",
       "14  0.196168  \n",
       "15  0.001272  \n",
       "16  0.227079  \n",
       "17  0.018340  \n",
       "18  0.012601  \n",
       "19  0.000673  "
      ]
     },
     "execution_count": 27,
     "metadata": {},
     "output_type": "execute_result"
    }
   ],
   "source": [
    "df_predB.head(20)"
   ]
  },
  {
   "cell_type": "markdown",
   "metadata": {},
   "source": [
    "### Final Fit con todos los datos y creamos la entrega"
   ]
  },
  {
   "cell_type": "code",
   "execution_count": 29,
   "metadata": {},
   "outputs": [],
   "source": [
    "model = xgb.XGBClassifier(random_state=420,tree_method='gpu_hist',objective=\"binary:logistic\",eval_metric=\"logloss\", \n",
    "                      #eval_set=eval_set, \n",
    "                      learning_rate=0.01,  \n",
    "                      colsample_bytree = 0.4,\n",
    "                      subsample = 0.8, \n",
    "                      n_estimators=1000, \n",
    "                      max_depth=10,\n",
    "                      gamma=0.005,\n",
    "                      reg_alpha=0.05,\n",
    "                      reg_lambda=1.0,\n",
    "                     # early_stopping_rounds=20\n",
    "                    )\n",
    "\n",
    "clf1 = OneVsRestClassifier(model,n_jobs=3).fit(X_modelar2,y_modelar)\n",
    "\n",
    "transformer = SMOTETomek(n_jobs=12)\n",
    "X_smote, y_smote = transformer.fit_resample(X_modelar, y_modelar)\n",
    "\n",
    "clf2 = OneVsRestClassifier(model,n_jobs=3).fit(X_smote,y_smote)"
   ]
  },
  {
   "cell_type": "code",
   "execution_count": 35,
   "metadata": {},
   "outputs": [
    {
     "name": "stdout",
     "output_type": "stream",
     "text": [
      "['AGRICULTURE' 'INDUSTRIAL' 'OFFICE' 'OTHER' 'PUBLIC' 'RESIDENTIAL'\n",
      " 'RETAIL']\n",
      "4475\n",
      "923\n",
      "220\n"
     ]
    }
   ],
   "source": [
    "pred = finalPrediction(X_estimar2)"
   ]
  },
  {
   "cell_type": "code",
   "execution_count": 36,
   "metadata": {},
   "outputs": [],
   "source": [
    "entrega = pd.DataFrame()\n",
    "entrega['ID'] = est_ID\n",
    "entrega['CLASE'] = pred"
   ]
  },
  {
   "cell_type": "code",
   "execution_count": 37,
   "metadata": {},
   "outputs": [
    {
     "data": {
      "text/plain": [
       "(5618, 2)"
      ]
     },
     "execution_count": 37,
     "metadata": {},
     "output_type": "execute_result"
    }
   ],
   "source": [
    "entrega.shape"
   ]
  },
  {
   "cell_type": "code",
   "execution_count": 38,
   "metadata": {},
   "outputs": [
    {
     "data": {
      "text/html": [
       "<div>\n",
       "<style scoped>\n",
       "    .dataframe tbody tr th:only-of-type {\n",
       "        vertical-align: middle;\n",
       "    }\n",
       "\n",
       "    .dataframe tbody tr th {\n",
       "        vertical-align: top;\n",
       "    }\n",
       "\n",
       "    .dataframe thead th {\n",
       "        text-align: right;\n",
       "    }\n",
       "</style>\n",
       "<table border=\"1\" class=\"dataframe\">\n",
       "  <thead>\n",
       "    <tr style=\"text-align: right;\">\n",
       "      <th></th>\n",
       "      <th>ID</th>\n",
       "      <th>CLASE</th>\n",
       "    </tr>\n",
       "  </thead>\n",
       "  <tbody>\n",
       "    <tr>\n",
       "      <th>0</th>\n",
       "      <td>44198C2A811A4DF4</td>\n",
       "      <td>RESIDENTIAL</td>\n",
       "    </tr>\n",
       "    <tr>\n",
       "      <th>1</th>\n",
       "      <td>216F638609E0E39E</td>\n",
       "      <td>RESIDENTIAL</td>\n",
       "    </tr>\n",
       "    <tr>\n",
       "      <th>2</th>\n",
       "      <td>FFFCEFB11E257364</td>\n",
       "      <td>RESIDENTIAL</td>\n",
       "    </tr>\n",
       "    <tr>\n",
       "      <th>3</th>\n",
       "      <td>596C5C8CE10BCF</td>\n",
       "      <td>OFFICE</td>\n",
       "    </tr>\n",
       "    <tr>\n",
       "      <th>4</th>\n",
       "      <td>F931B9FA2A8641D1</td>\n",
       "      <td>OTHER</td>\n",
       "    </tr>\n",
       "  </tbody>\n",
       "</table>\n",
       "</div>"
      ],
      "text/plain": [
       "                 ID        CLASE\n",
       "0  44198C2A811A4DF4  RESIDENTIAL\n",
       "1  216F638609E0E39E  RESIDENTIAL\n",
       "2  FFFCEFB11E257364  RESIDENTIAL\n",
       "3    596C5C8CE10BCF       OFFICE\n",
       "4  F931B9FA2A8641D1        OTHER"
      ]
     },
     "execution_count": 38,
     "metadata": {},
     "output_type": "execute_result"
    }
   ],
   "source": [
    "entrega.head()"
   ]
  },
  {
   "cell_type": "code",
   "execution_count": 34,
   "metadata": {},
   "outputs": [],
   "source": [
    "entrega.to_csv('../../Data/entrega2/Minsait_Universidad Politecnica de Valencia_Sigma_69.txt',index = False, header=True,sep='|',encoding='utf-8-sig')"
   ]
  },
  {
   "cell_type": "code",
   "execution_count": null,
   "metadata": {},
   "outputs": [],
   "source": []
  },
  {
   "cell_type": "markdown",
   "metadata": {},
   "source": [
    "### Otros modelos"
   ]
  },
  {
   "cell_type": "markdown",
   "metadata": {},
   "source": [
    "La idea es probar otros modelos como SVM, KNN, redes neuronales... y combinarlos mediante stacking, bagging o ensemble para obtener un modelo más preciso y robusto.\n",
    "\n",
    "Para esta entrega he llegado a tiempo a si que no tener en cuenta lo expuesto a continuación.\n",
    "\n",
    "De entre todos los modelos que se han probado de forma independiente siempre XGBoost ha obtenido mejores resultados.\n",
    "\n",
    "En un futuro probar otras librerias de Decission Trees como LightGBM, CatBoost..."
   ]
  },
  {
   "cell_type": "markdown",
   "metadata": {},
   "source": [
    "### SVM"
   ]
  },
  {
   "cell_type": "markdown",
   "metadata": {},
   "source": [
    "Mejor kernel rbf. Malos resultados. Probar para el segundo nivel del clasificador"
   ]
  },
  {
   "cell_type": "markdown",
   "metadata": {},
   "source": [
    "### Redes neuronales"
   ]
  },
  {
   "cell_type": "markdown",
   "metadata": {},
   "source": [
    "Se ha probado a utilizar la librería open-source AutoKeras con la cual se ha llegado a conseguir un 88% de accuracy.\n",
    "\n",
    "Con redes neuronales propias usando tensorflow2 se ha conseguido un 66% de accuracy."
   ]
  },
  {
   "cell_type": "markdown",
   "metadata": {},
   "source": [
    "### Knn"
   ]
  },
  {
   "cell_type": "markdown",
   "metadata": {},
   "source": [
    "Con NCA da un resultado un 1-2% peor"
   ]
  },
  {
   "cell_type": "code",
   "execution_count": 54,
   "metadata": {},
   "outputs": [],
   "source": [
    "from sklearn.neighbors import NeighborhoodComponentsAnalysis\n",
    "from sklearn.neighbors import KNeighborsClassifier"
   ]
  },
  {
   "cell_type": "code",
   "execution_count": 55,
   "metadata": {},
   "outputs": [],
   "source": [
    "X_train, X_test, y_train, y_test = train_test_split(X_modelar, y_modelar ,stratify=y_modelar, test_size=0.2, random_state=42)"
   ]
  },
  {
   "cell_type": "code",
   "execution_count": 56,
   "metadata": {},
   "outputs": [],
   "source": [
    "knn = KNeighborsClassifier(n_neighbors=7)"
   ]
  },
  {
   "cell_type": "code",
   "execution_count": 57,
   "metadata": {},
   "outputs": [
    {
     "data": {
      "text/plain": [
       "KNeighborsClassifier(algorithm='auto', leaf_size=30, metric='minkowski',\n",
       "                     metric_params=None, n_jobs=None, n_neighbors=7, p=2,\n",
       "                     weights='uniform')"
      ]
     },
     "execution_count": 57,
     "metadata": {},
     "output_type": "execute_result"
    }
   ],
   "source": [
    "knn.fit(X_train, y_train)"
   ]
  },
  {
   "cell_type": "code",
   "execution_count": 58,
   "metadata": {},
   "outputs": [
    {
     "name": "stdout",
     "output_type": "stream",
     "text": [
      "0.8908747457134554\n"
     ]
    }
   ],
   "source": [
    "print(knn.score(X_test, y_test))"
   ]
  },
  {
   "cell_type": "code",
   "execution_count": 59,
   "metadata": {},
   "outputs": [
    {
     "name": "stdout",
     "output_type": "stream",
     "text": [
      "         f1  precision    recall  accuracy\n",
      "0  0.394679   0.890875  0.890875  0.890875\n"
     ]
    },
    {
     "data": {
      "image/png": "[encoded data removed]",
      "text/plain": [
       "<Figure size 1008x1008 with 2 Axes>"
      ]
     },
     "metadata": {
      "needs_background": "light"
     },
     "output_type": "display_data"
    }
   ],
   "source": [
    "pred = knn.predict(X_test)\n",
    "\n",
    "scores = []\n",
    "\n",
    "scores.append((f1_score(y_test,pred,average='macro'), precision_score(y_test,pred,average='micro'), recall_score(y_test,pred,average='micro'), accuracy_score(y_test,pred)))\n",
    "\n",
    "results = pd.DataFrame(scores,columns=['f1','precision','recall','accuracy'])\n",
    "\n",
    "print(results)\n",
    "\n",
    "lib.make_confusion_matrix(confusion_matrix(y_test,pred), figsize=(14,14), cbar=True)"
   ]
  },
  {
   "cell_type": "code",
   "execution_count": null,
   "metadata": {},
   "outputs": [],
   "source": []
  }
 ],
 "metadata": {
  "kernelspec": {
   "display_name": "Python 3",
   "language": "python",
   "name": "python3"
  },
  "language_info": {
   "codemirror_mode": {
    "name": "ipython",
    "version": 3
   },
   "file_extension": ".py",
   "mimetype": "text/x-python",
   "name": "python",
   "nbconvert_exporter": "python",
   "pygments_lexer": "ipython3",
   "version": "3.7.6"
  }
 },
 "nbformat": 4,
 "nbformat_minor": 4
}
